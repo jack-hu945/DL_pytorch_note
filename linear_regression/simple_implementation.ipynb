{
 "cells": [
  {
   "cell_type": "markdown",
   "id": "79420936-fb89-41ac-8336-6296eaaf2f65",
   "metadata": {},
   "source": [
    "# 线性回归的简简洁实现"
   ]
  },
  {
   "cell_type": "markdown",
   "id": "db18cab1-3fbb-4491-a099-ec23b1160770",
   "metadata": {},
   "source": [
    "**通过使用深度学习框架来简洁的实现线性回归模型生成数据集**"
   ]
  },
  {
   "cell_type": "code",
   "execution_count": 11,
   "id": "4397de61-0ad8-46f7-8810-980fda9f6d5b",
   "metadata": {},
   "outputs": [],
   "source": [
    "import numpy as np\n",
    "import torch\n",
    "from torch.utils import data\n",
    "from d2l import torch as d2l\n",
    "\n",
    "true_w = torch.tensor([2, -3.4])\n",
    "true_b = 4.2\n",
    "features, labels = d2l.synthetic_data(true_w, true_b, 1000)   #生成数据集"
   ]
  },
  {
   "cell_type": "code",
   "execution_count": 13,
   "id": "6dcc67d6-ba41-4039-aa8e-9aa38a66890b",
   "metadata": {},
   "outputs": [
    {
     "data": {
      "text/plain": [
       "[tensor([[ 1.1253,  0.6684],\n",
       "         [-1.1846, -0.2699],\n",
       "         [-0.9220, -0.1629],\n",
       "         [-0.1488,  0.4489],\n",
       "         [ 1.7706, -1.4559],\n",
       "         [ 1.9011,  0.0120],\n",
       "         [-1.0077, -1.6793],\n",
       "         [-2.0265, -0.3730],\n",
       "         [ 0.4221,  0.4281],\n",
       "         [ 0.0121,  0.5463]]),\n",
       " tensor([[ 4.1954],\n",
       "         [ 2.7472],\n",
       "         [ 2.9226],\n",
       "         [ 2.3713],\n",
       "         [12.6737],\n",
       "         [ 7.9512],\n",
       "         [ 7.8946],\n",
       "         [ 1.4220],\n",
       "         [ 3.5941],\n",
       "         [ 2.3662]])]"
      ]
     },
     "execution_count": 13,
     "metadata": {},
     "output_type": "execute_result"
    }
   ],
   "source": [
    "def load_array(data_arrays, batch_size, is_train=True):\n",
    "    ''' 构造一个pytorch的数据迭代器'''\n",
    "    dataset = data.TensorDataset(*data_arrays)\n",
    "    return data.DataLoader(dataset, batch_size, shuffle=is_train) #每次从数据集中挑出指定数量的数据\n",
    "\n",
    "batch_size = 10\n",
    "data_iter = load_array((features,labels), batch_size)\n",
    "\n",
    "next(iter(data_iter))"
   ]
  },
  {
   "cell_type": "markdown",
   "id": "ff2debbb-7b49-4999-b651-42ded2765b80",
   "metadata": {},
   "source": [
    "**使用框架预定义好的层**"
   ]
  },
  {
   "cell_type": "code",
   "execution_count": 23,
   "id": "0030c68d-5128-4328-bdfb-480295808cbe",
   "metadata": {},
   "outputs": [],
   "source": [
    "from torch import  nn    #nn是神经网络的缩写\n",
    "\n",
    "net = nn.Sequential(nn.Linear(2, 1))   #这里的2 ， 1分别表述，输入一个2维向量， 即变量x1， x2， 输出预测值 y  y = w1x1 + w2x2 + w3*x3 + b"
   ]
  },
  {
   "cell_type": "markdown",
   "id": "8502ae4d-0db2-4e5c-804b-77d99be9a782",
   "metadata": {},
   "source": [
    "**初始化模型参数**"
   ]
  },
  {
   "cell_type": "code",
   "execution_count": 36,
   "id": "ed83d647-e5e2-40e3-aa3e-a48597900220",
   "metadata": {},
   "outputs": [
    {
     "data": {
      "text/plain": [
       "tensor([0.])"
      ]
     },
     "execution_count": 36,
     "metadata": {},
     "output_type": "execute_result"
    }
   ],
   "source": [
    "net[0].weight.data.normal_(0, 0.01)\n",
    "net[0].bias.data.fill_(0)"
   ]
  },
  {
   "cell_type": "markdown",
   "id": "d30c68a4-10b0-4294-8b95-15cbf6ebd70e",
   "metadata": {},
   "source": [
    "net[0].weight.data.normal_(0, 0.01)：\n",
    "1. net[0]：访问net中的第一个层，即之前定义的nn.Linear(2, 1)层。\n",
    "2. weight：访问该层的权重参数。\n",
    "3. data：访问权重参数的实际数据。\n",
    "4. normal_(0, 0.01)：使用正态分布来初始化权重数据。这里的0表示正态分布的均值，0.01表示标准差（即方差的平方根）。这意味着权重参数将从均值为0、标准差为0.01的正态分布中随机采样。\n",
    "\n",
    "net[0].bias.data.fill_(0)：\n",
    "1. bias：访问该层的偏置参数。\n",
    "2. data：访问偏置参数的实际数据。\n",
    "3. fill_(0)：将偏置参数的值全部设置为0。"
   ]
  },
  {
   "cell_type": "code",
   "execution_count": 56,
   "id": "29e772ce-efb1-405e-9c5a-f70ba1bf5dec",
   "metadata": {},
   "outputs": [],
   "source": [
    "loss = nn.MSELoss()   #使用均方误差作为损失函数\n",
    "trainer = torch.optim.SGD(net.parameters(), lr=0.03)"
   ]
  },
  {
   "cell_type": "markdown",
   "id": "23a5bae6-8893-4c97-83c7-ecb2e53cd8d8",
   "metadata": {},
   "source": [
    "注：\n",
    "1. \n",
    "nn.MSELoss()：创建一个均方误差（Mean Squared Error, MSE）损失函数对象\n",
    "2. 3)：\r\n",
    "torch.optim.SGD：创建一个随机梯度下降（Stochastic Gradient Descent, SGD）.\n",
    "3. 失函数。\r\n",
    "net.parameters()：传递给优化器的是神经网络net的所有可学习参数（即权\n",
    "4. 和偏置）。\r\n",
    "lr=0.03：设置学习率（learning rate在训练过程中使用"
   ]
  },
  {
   "cell_type": "markdown",
   "id": "6d73b9d7-410c-4dac-8dee-d285d085bd5b",
   "metadata": {},
   "source": [
    "**训练**"
   ]
  },
  {
   "cell_type": "code",
   "execution_count": 62,
   "id": "2b03eca7-b944-4f65-9200-bebcf0cddbad",
   "metadata": {},
   "outputs": [
    {
     "name": "stdout",
     "output_type": "stream",
     "text": [
      "epoch 1, loss 0.000102\n",
      "epoch 2, loss 0.000101\n",
      "epoch 3, loss 0.000101\n"
     ]
    }
   ],
   "source": [
    "num_epochs = 3\n",
    "for epoch in range(num_epochs):\n",
    "    for X, y in data_iter:\n",
    "        l = loss(net(X), y)\n",
    "        trainer.zero_grad()   #梯度清零\n",
    "        l.backward()\n",
    "        trainer.step()\n",
    "    l = loss(net(features), labels)\n",
    "    print(f'epoch {epoch + 1}, loss {l:f}')"
   ]
  },
  {
   "cell_type": "code",
   "execution_count": null,
   "id": "b909e870-2a78-4acb-8d97-eaefad5a20d9",
   "metadata": {},
   "outputs": [],
   "source": []
  }
 ],
 "metadata": {
  "kernelspec": {
   "display_name": "Python 3 (ipykernel)",
   "language": "python",
   "name": "python3"
  },
  "language_info": {
   "codemirror_mode": {
    "name": "ipython",
    "version": 3
   },
   "file_extension": ".py",
   "mimetype": "text/x-python",
   "name": "python",
   "nbconvert_exporter": "python",
   "pygments_lexer": "ipython3",
   "version": "3.12.4"
  }
 },
 "nbformat": 4,
 "nbformat_minor": 5
}
