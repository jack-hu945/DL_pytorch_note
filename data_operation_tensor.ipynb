{
 "cells": [
  {
   "cell_type": "markdown",
   "id": "d05cf220-0fd5-4120-bb25-d0ea39ef361c",
   "metadata": {},
   "source": [
    "# 张量的概念及基本运算"
   ]
  },
  {
   "cell_type": "markdown",
   "id": "2eaa6c55-9b47-4cf3-bbd9-5f4b48be5297",
   "metadata": {},
   "source": [
    "**张量是表示一个由数值组成的数组，这个数组可能存在多个维度**"
   ]
  },
  {
   "cell_type": "markdown",
   "id": "977b66ab-df0c-4144-a495-8f8b50efe63a",
   "metadata": {},
   "source": [
    "## 张量的初始化"
   ]
  },
  {
   "cell_type": "code",
   "execution_count": 4,
   "id": "3cd63574-ac67-4461-bb57-83bae1765c49",
   "metadata": {},
   "outputs": [],
   "source": [
    "import torch"
   ]
  },
  {
   "cell_type": "code",
   "execution_count": 5,
   "id": "8dbe848e-156f-458c-a5e9-97cb0d6ee843",
   "metadata": {},
   "outputs": [
    {
     "data": {
      "text/plain": [
       "tensor([ 0,  1,  2,  3,  4,  5,  6,  7,  8,  9, 10, 11])"
      ]
     },
     "execution_count": 5,
     "metadata": {},
     "output_type": "execute_result"
    }
   ],
   "source": [
    "x = torch.arange(12)\n",
    "x"
   ]
  },
  {
   "cell_type": "markdown",
   "id": "36bf0019-c88c-4d14-8db3-12bda8a4c4aa",
   "metadata": {},
   "source": []
  },
  {
   "cell_type": "code",
   "execution_count": 7,
   "id": "00d70ca9-830a-415d-bda0-afc98228c149",
   "metadata": {},
   "outputs": [
    {
     "data": {
      "text/plain": [
       "torch.Size([12])"
      ]
     },
     "execution_count": 7,
     "metadata": {},
     "output_type": "execute_result"
    }
   ],
   "source": [
    "x.shape   #获取张量的形"
   ]
  },
  {
   "cell_type": "code",
   "execution_count": 8,
   "id": "9a8e95c3-1a72-4af6-819b-9f67854020f6",
   "metadata": {},
   "outputs": [
    {
     "data": {
      "text/plain": [
       "12"
      ]
     },
     "execution_count": 8,
     "metadata": {},
     "output_type": "execute_result"
    }
   ],
   "source": [
    "x.numel()   #获取张量中的元素总数"
   ]
  },
  {
   "cell_type": "code",
   "execution_count": 9,
   "id": "91e4e6f0-efcc-4931-810f-848bb9c4f621",
   "metadata": {},
   "outputs": [
    {
     "data": {
      "text/plain": [
       "tensor([[ 0,  1,  2,  3],\n",
       "        [ 4,  5,  6,  7],\n",
       "        [ 8,  9, 10, 11]])"
      ]
     },
     "execution_count": 9,
     "metadata": {},
     "output_type": "execute_result"
    }
   ],
   "source": [
    "x = x.reshape(3,4)  #张量的形状调整\n",
    "x"
   ]
  },
  {
   "cell_type": "code",
   "execution_count": 10,
   "id": "2f435b49-2150-4d79-b5c4-d3f8eea1f186",
   "metadata": {},
   "outputs": [
    {
     "data": {
      "text/plain": [
       "tensor([[[0., 0., 0., 0.],\n",
       "         [0., 0., 0., 0.],\n",
       "         [0., 0., 0., 0.]],\n",
       "\n",
       "        [[0., 0., 0., 0.],\n",
       "         [0., 0., 0., 0.],\n",
       "         [0., 0., 0., 0.]]])"
      ]
     },
     "execution_count": 10,
     "metadata": {},
     "output_type": "execute_result"
    }
   ],
   "source": [
    "torch.zeros((2,3,4))  #初始化一个全零的三维张量"
   ]
  },
  {
   "cell_type": "code",
   "execution_count": 11,
   "id": "0aed0d96-641b-4710-93ba-fb7f064771a7",
   "metadata": {},
   "outputs": [
    {
     "data": {
      "text/plain": [
       "tensor([[2, 1, 4, 3],\n",
       "        [1, 2, 3, 4],\n",
       "        [4, 3, 2, 1]])"
      ]
     },
     "execution_count": 11,
     "metadata": {},
     "output_type": "execute_result"
    }
   ],
   "source": [
    "torch.tensor([[2,1,4,3], [1,2,3,4], [4,3,2,1]])  #手动初始化一个三维张量"
   ]
  },
  {
   "cell_type": "markdown",
   "id": "9608ecaa-d222-4855-969e-039a6eeb5e7f",
   "metadata": {},
   "source": [
    "## 张量的运算"
   ]
  },
  {
   "cell_type": "code",
   "execution_count": 13,
   "id": "87531121-5352-461a-a107-cd21f495669e",
   "metadata": {},
   "outputs": [
    {
     "data": {
      "text/plain": [
       "(tensor([ 3.,  4.,  6., 10.]),\n",
       " tensor([-1.,  0.,  2.,  6.]),\n",
       " tensor([ 2.,  4.,  8., 16.]),\n",
       " tensor([0.5000, 1.0000, 2.0000, 4.0000]),\n",
       " tensor([ 1.,  4., 16., 64.]))"
      ]
     },
     "execution_count": 13,
     "metadata": {},
     "output_type": "execute_result"
    }
   ],
   "source": [
    "x = torch.tensor([1.0,2,4,8])\n",
    "y = torch.tensor([2,2,2,2])\n",
    "x + y,x - y,x * y,x / y,x ** y #求幂运算"
   ]
  },
  {
   "cell_type": "code",
   "execution_count": 14,
   "id": "1e3ac982-6720-4043-9fc7-0dc7365eb048",
   "metadata": {},
   "outputs": [
    {
     "data": {
      "text/plain": [
       "tensor([2.7183e+00, 7.3891e+00, 5.4598e+01, 2.9810e+03])"
      ]
     },
     "execution_count": 14,
     "metadata": {},
     "output_type": "execute_result"
    }
   ],
   "source": [
    "torch.exp(x)  #用于计算输入张量 x 中每个元素的指数（即 ( e^x )），其中 ( e ) 是自然对数的底数"
   ]
  },
  {
   "cell_type": "code",
   "execution_count": 15,
   "id": "74a95165-483a-4a1d-9e8e-a0c505dcc149",
   "metadata": {},
   "outputs": [
    {
     "data": {
      "text/plain": [
       "(tensor([[ 0.,  1.,  2.,  3.],\n",
       "         [ 4.,  5.,  6.,  7.],\n",
       "         [ 8.,  9., 10., 11.],\n",
       "         [ 2.,  1.,  4.,  3.],\n",
       "         [ 1.,  2.,  3.,  4.],\n",
       "         [ 4.,  3.,  2.,  1.]]),\n",
       " tensor([[ 0.,  1.,  2.,  3.,  2.,  1.,  4.,  3.],\n",
       "         [ 4.,  5.,  6.,  7.,  1.,  2.,  3.,  4.],\n",
       "         [ 8.,  9., 10., 11.,  4.,  3.,  2.,  1.]]))"
      ]
     },
     "execution_count": 15,
     "metadata": {},
     "output_type": "execute_result"
    }
   ],
   "source": [
    "x = torch.arange(12, dtype=torch.float32).reshape((3,4))\n",
    "y = torch.tensor([[2.0, 1, 4, 3], [1, 2, 3, 4], [4, 3, 2, 1]])\n",
    "torch.cat((x, y), dim=0), torch.cat((x, y), dim=1) #在行和列上进行拼接"
   ]
  },
  {
   "cell_type": "code",
   "execution_count": 16,
   "id": "8e82ce75-3ea3-4981-bcc2-8d924ff236e6",
   "metadata": {},
   "outputs": [
    {
     "data": {
      "text/plain": [
       "tensor([[False,  True, False,  True],\n",
       "        [False, False, False, False],\n",
       "        [False, False, False, False]])"
      ]
     },
     "execution_count": 16,
     "metadata": {},
     "output_type": "execute_result"
    }
   ],
   "source": [
    " x == y  #张量的逻辑运算，逐个元素对比"
   ]
  },
  {
   "cell_type": "code",
   "execution_count": 17,
   "id": "81905e8c-adc8-42fc-af4d-1edb26dc417b",
   "metadata": {},
   "outputs": [
    {
     "data": {
      "text/plain": [
       "tensor(66.)"
      ]
     },
     "execution_count": 17,
     "metadata": {},
     "output_type": "execute_result"
    }
   ],
   "source": [
    "x.sum() #对张量的所有元素进行求和，只会产生一个只有一个元素的张量"
   ]
  },
  {
   "cell_type": "markdown",
   "id": "c2ae52f0-8832-4d85-84bc-e2e9ef49fafa",
   "metadata": {},
   "source": [
    "**广播机制（broadcasting mechanism）导致的计算异常**"
   ]
  },
  {
   "cell_type": "code",
   "execution_count": 36,
   "id": "57721d6c-da61-4571-b134-60771f8429c7",
   "metadata": {},
   "outputs": [
    {
     "data": {
      "text/plain": [
       "(tensor([[0],\n",
       "         [1],\n",
       "         [2]]),\n",
       " tensor([[0, 1]]))"
      ]
     },
     "execution_count": 36,
     "metadata": {},
     "output_type": "execute_result"
    }
   ],
   "source": [
    "a = torch.arange(3).reshape((3,1))\n",
    "b = torch.arange(2).reshape((1,2))\n",
    "a, b"
   ]
  },
  {
   "cell_type": "code",
   "execution_count": 38,
   "id": "48c2844f-48d3-4fdb-b491-f2232e04b0ce",
   "metadata": {},
   "outputs": [
    {
     "data": {
      "text/plain": [
       "tensor([[0, 1],\n",
       "        [1, 2],\n",
       "        [2, 3]])"
      ]
     },
     "execution_count": 38,
     "metadata": {},
     "output_type": "execute_result"
    }
   ],
   "source": [
    "a + b  #形状不一样仍然计算成功  将a和b都按3x2进行计算"
   ]
  },
  {
   "cell_type": "code",
   "execution_count": 42,
   "id": "e50b6223-8c0b-4baf-b81a-6d064c9d3cf4",
   "metadata": {},
   "outputs": [
    {
     "data": {
      "text/plain": [
       "(tensor([[[0, 1]],\n",
       " \n",
       "         [[2, 3]],\n",
       " \n",
       "         [[4, 5]]]),\n",
       " tensor([[0, 1]]))"
      ]
     },
     "execution_count": 42,
     "metadata": {},
     "output_type": "execute_result"
    }
   ],
   "source": [
    "a = torch.arange(6).reshape((3,1,2))\n",
    "b = torch.arange(2).reshape((1,2))\n",
    "a, b"
   ]
  },
  {
   "cell_type": "code",
   "execution_count": 44,
   "id": "b5f040dc-20cc-49c7-a563-787bfbb0a76c",
   "metadata": {},
   "outputs": [
    {
     "data": {
      "text/plain": [
       "tensor([[[0, 2]],\n",
       "\n",
       "        [[2, 4]],\n",
       "\n",
       "        [[4, 6]]])"
      ]
     },
     "execution_count": 44,
     "metadata": {},
     "output_type": "execute_result"
    }
   ],
   "source": [
    "a + b "
   ]
  },
  {
   "cell_type": "markdown",
   "id": "df673a59-b622-4e31-9396-6dc0c88d22b0",
   "metadata": {},
   "source": [
    "## 元素访问"
   ]
  },
  {
   "cell_type": "code",
   "execution_count": 49,
   "id": "5020dee7-a499-4faa-95c6-e896f8098a0d",
   "metadata": {},
   "outputs": [
    {
     "data": {
      "text/plain": [
       "(tensor([ 8.,  9., 10., 11.]),\n",
       " tensor([[ 4.,  5.,  6.,  7.],\n",
       "         [ 8.,  9., 10., 11.]]))"
      ]
     },
     "execution_count": 49,
     "metadata": {},
     "output_type": "execute_result"
    }
   ],
   "source": [
    "x = torch.arange(12, dtype=torch.float32).reshape((3,4))\n",
    "x[-1], x[1:3] #x的最后一行， x的第2到第3行"
   ]
  },
  {
   "cell_type": "code",
   "execution_count": 53,
   "id": "92c22f5c-71c5-4477-a1b7-4d6f72cde4da",
   "metadata": {},
   "outputs": [
    {
     "data": {
      "text/plain": [
       "tensor([[ 0.,  1.,  2.,  3.],\n",
       "        [ 4.,  5.,  9.,  7.],\n",
       "        [ 8.,  9., 10., 11.]])"
      ]
     },
     "execution_count": 53,
     "metadata": {},
     "output_type": "execute_result"
    }
   ],
   "source": [
    "x[1,2] = 9 #将第二行第3列的元素赋值为9\n",
    "x"
   ]
  },
  {
   "cell_type": "code",
   "execution_count": 57,
   "id": "94a13c40-6e14-46dd-b7b8-decf5bfc392a",
   "metadata": {},
   "outputs": [
    {
     "data": {
      "text/plain": [
       "tensor([[12., 12., 12., 12.],\n",
       "        [12., 12., 12., 12.],\n",
       "        [ 8.,  9., 10., 11.]])"
      ]
     },
     "execution_count": 57,
     "metadata": {},
     "output_type": "execute_result"
    }
   ],
   "source": [
    "x[0:2, :] = 12  #选中第1行到第二行，所有列的元素，批量赋值为12\n",
    "x"
   ]
  },
  {
   "cell_type": "markdown",
   "id": "f78398bb-893d-4e18-9aa5-384233becc71",
   "metadata": {},
   "source": [
    "**运行一些操作可能会导致内存的重新分配，在巨量数据的操作中应尽可能避免，减少内存拷贝的开销**"
   ]
  },
  {
   "cell_type": "code",
   "execution_count": 60,
   "id": "6ef6e30a-0619-443d-9e55-055ce1bf074e",
   "metadata": {},
   "outputs": [
    {
     "data": {
      "text/plain": [
       "False"
      ]
     },
     "execution_count": 60,
     "metadata": {},
     "output_type": "execute_result"
    }
   ],
   "source": [
    "before = id(y)\n",
    "y = y + x\n",
    "id(y) == before  #这里的id类似于C/C++中的取地址，验证操作后的内存是不一样的"
   ]
  },
  {
   "cell_type": "markdown",
   "id": "5a5c33b8-5ec7-4779-a320-6816273e89ba",
   "metadata": {},
   "source": [
    "**执行原地操作**"
   ]
  },
  {
   "cell_type": "code",
   "execution_count": 65,
   "id": "78ba0d91-8112-4e9f-b47f-d82f5672f8e1",
   "metadata": {},
   "outputs": [
    {
     "name": "stdout",
     "output_type": "stream",
     "text": [
      "id(z) ==  2673748111552\n",
      "id(z) ==  2673748111552\n"
     ]
    }
   ],
   "source": [
    "z = torch.zeros_like(y)  #创建一个z，类型和y一致，但是元素全部初始化为0\n",
    "print(\"id(z) == \", id(z))\n",
    "z[:] = x = y              #直接对z的元素进行操作，不进行内存拷贝\n",
    "print(\"id(z) == \", id(z))"
   ]
  },
  {
   "cell_type": "code",
   "execution_count": 69,
   "id": "86d2bd6c-bdba-43de-838e-960f7ccbed7c",
   "metadata": {},
   "outputs": [
    {
     "data": {
      "text/plain": [
       "True"
      ]
     },
     "execution_count": 69,
     "metadata": {},
     "output_type": "execute_result"
    }
   ],
   "source": [
    "#同样，对于后续计算不再需要变量的场景，可以直接修改原变量\n",
    "before = id(x)\n",
    "x += y\n",
    "id(x) == before"
   ]
  },
  {
   "cell_type": "markdown",
   "id": "d7ea9447-704d-4acb-9f8e-d3b3a226be94",
   "metadata": {},
   "source": [
    "## tensor转换"
   ]
  },
  {
   "cell_type": "code",
   "execution_count": 74,
   "id": "afdf0357-e96e-4f6e-a8c1-4722362e7019",
   "metadata": {},
   "outputs": [
    {
     "data": {
      "text/plain": [
       "(numpy.ndarray, torch.Tensor)"
      ]
     },
     "execution_count": 74,
     "metadata": {},
     "output_type": "execute_result"
    }
   ],
   "source": [
    "A = x.numpy()\n",
    "B = torch.tensor(A)\n",
    "type(A), type(B)"
   ]
  },
  {
   "cell_type": "code",
   "execution_count": 77,
   "id": "0b0882e8-a70d-4ef7-8295-fb9966062e1d",
   "metadata": {},
   "outputs": [
    {
     "data": {
      "text/plain": [
       "(tensor([3.5000]), 3.5, 3.5, 3)"
      ]
     },
     "execution_count": 77,
     "metadata": {},
     "output_type": "execute_result"
    }
   ],
   "source": [
    "a = torch.tensor([3.5])\n",
    "a, a.item(), float(a), int(a)  #将大小为1的tensor转换为python的标量"
   ]
  },
  {
   "cell_type": "code",
   "execution_count": null,
   "id": "51d6f039-5ab9-4993-a8ea-9ea65667f943",
   "metadata": {},
   "outputs": [],
   "source": []
  }
 ],
 "metadata": {
  "kernelspec": {
   "display_name": "Python 3 (ipykernel)",
   "language": "python",
   "name": "python3"
  },
  "language_info": {
   "codemirror_mode": {
    "name": "ipython",
    "version": 3
   },
   "file_extension": ".py",
   "mimetype": "text/x-python",
   "name": "python",
   "nbconvert_exporter": "python",
   "pygments_lexer": "ipython3",
   "version": "3.12.4"
  }
 },
 "nbformat": 4,
 "nbformat_minor": 5
}
