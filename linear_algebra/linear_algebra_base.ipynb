{
 "cells": [
  {
   "cell_type": "markdown",
   "id": "bddb944e-1942-4557-b485-337ce10c51fb",
   "metadata": {},
   "source": [
    "# 线性代数"
   ]
  },
  {
   "cell_type": "markdown",
   "id": "52f533a5-8b85-49d8-a1fd-cab4ba36b25f",
   "metadata": {},
   "source": [
    "**标量由只有一个元素的张量表示**"
   ]
  },
  {
   "cell_type": "code",
   "execution_count": 3,
   "id": "aa61f902-ecf7-4129-8f5f-52c068be3a9b",
   "metadata": {},
   "outputs": [],
   "source": [
    "import torch"
   ]
  },
  {
   "cell_type": "code",
   "execution_count": 4,
   "id": "bfed0969-ad92-4412-bc74-b5dd3a8f095c",
   "metadata": {},
   "outputs": [
    {
     "data": {
      "text/plain": [
       "(tensor([5.]), tensor([6.]), tensor([1.5000]), tensor([9.]))"
      ]
     },
     "execution_count": 4,
     "metadata": {},
     "output_type": "execute_result"
    }
   ],
   "source": [
    "x = torch.tensor([3.0])\n",
    "y = torch.tensor([2.0])\n",
    "x + y, x * y, x / y, x**y"
   ]
  },
  {
   "cell_type": "markdown",
   "id": "35b22856-0234-4a39-8d4c-bbc1ceb199c6",
   "metadata": {},
   "source": [
    "**可以将向量视为标量值组成的列表**"
   ]
  },
  {
   "cell_type": "code",
   "execution_count": 6,
   "id": "99880f3c-bd25-4625-93a4-7d814db72419",
   "metadata": {},
   "outputs": [
    {
     "data": {
      "text/plain": [
       "tensor([0, 1, 2, 3])"
      ]
     },
     "execution_count": 6,
     "metadata": {},
     "output_type": "execute_result"
    }
   ],
   "source": [
    "x = torch.arange(4)\n",
    "x"
   ]
  },
  {
   "cell_type": "code",
   "execution_count": 7,
   "id": "5ee5a08d-4cdc-456c-adf5-afed4a31d315",
   "metadata": {},
   "outputs": [
    {
     "data": {
      "text/plain": [
       "tensor(3)"
      ]
     },
     "execution_count": 7,
     "metadata": {},
     "output_type": "execute_result"
    }
   ],
   "source": [
    "x[3]   #可通过张量的索引来访问任一元素"
   ]
  },
  {
   "cell_type": "code",
   "execution_count": 8,
   "id": "08d9c753-e83a-4d47-a31e-6b11ba2847c2",
   "metadata": {},
   "outputs": [
    {
     "data": {
      "text/plain": [
       "4"
      ]
     },
     "execution_count": 8,
     "metadata": {},
     "output_type": "execute_result"
    }
   ],
   "source": [
    "len(x)  #获取张量的长度"
   ]
  },
  {
   "cell_type": "code",
   "execution_count": 9,
   "id": "05001cfb-8b7c-4ac5-98ad-883536a80166",
   "metadata": {},
   "outputs": [
    {
     "data": {
      "text/plain": [
       "torch.Size([4])"
      ]
     },
     "execution_count": 9,
     "metadata": {},
     "output_type": "execute_result"
    }
   ],
   "source": [
    "x.shape #只有一个轴的张量，形状只有一个元素"
   ]
  },
  {
   "cell_type": "markdown",
   "id": "d1d82fac-b0fe-4374-8e42-d745b0c454e6",
   "metadata": {},
   "source": [
    "**创建矩阵**"
   ]
  },
  {
   "cell_type": "code",
   "execution_count": 11,
   "id": "16b110f5-b03c-4cb6-9d73-6a92142bc29f",
   "metadata": {},
   "outputs": [
    {
     "data": {
      "text/plain": [
       "(tensor([[ 0,  1,  2,  3],\n",
       "         [ 4,  5,  6,  7],\n",
       "         [ 8,  9, 10, 11],\n",
       "         [12, 13, 14, 15],\n",
       "         [16, 17, 18, 19]]),\n",
       " tensor([[0., 0., 0., 0.],\n",
       "         [0., 0., 0., 0.],\n",
       "         [0., 0., 0., 0.],\n",
       "         [0., 0., 0., 0.],\n",
       "         [0., 0., 0., 0.]]))"
      ]
     },
     "execution_count": 11,
     "metadata": {},
     "output_type": "execute_result"
    }
   ],
   "source": [
    "A = torch.arange(20).reshape(5,4)  #创建一个5行四列的矩阵\n",
    "B = torch.zeros(5,4)               #创建一个初始全零矩阵\n",
    "A, B"
   ]
  },
  {
   "cell_type": "markdown",
   "id": "65c76f66-6a48-4d8d-a726-1993868ba135",
   "metadata": {},
   "source": [
    "**矩阵的转置**"
   ]
  },
  {
   "cell_type": "code",
   "execution_count": 13,
   "id": "78ec7d5b-5b66-4df4-82ba-54bc6352803c",
   "metadata": {},
   "outputs": [
    {
     "data": {
      "text/plain": [
       "tensor([[ 0,  4,  8, 12, 16],\n",
       "        [ 1,  5,  9, 13, 17],\n",
       "        [ 2,  6, 10, 14, 18],\n",
       "        [ 3,  7, 11, 15, 19]])"
      ]
     },
     "execution_count": 13,
     "metadata": {},
     "output_type": "execute_result"
    }
   ],
   "source": [
    "A.T"
   ]
  },
  {
   "cell_type": "markdown",
   "id": "3c951848-bdfe-4d2f-831f-bedf731af51d",
   "metadata": {},
   "source": [
    "**对称矩阵**"
   ]
  },
  {
   "cell_type": "code",
   "execution_count": 15,
   "id": "6710ab15-cb18-4105-9b0a-b13abdee75be",
   "metadata": {},
   "outputs": [
    {
     "data": {
      "text/plain": [
       "tensor([[True, True, True],\n",
       "        [True, True, True],\n",
       "        [True, True, True]])"
      ]
     },
     "execution_count": 15,
     "metadata": {},
     "output_type": "execute_result"
    }
   ],
   "source": [
    "B = torch.tensor([[1, 2, 3], [2, 0, 4], [3, 4, 5]])\n",
    "B == B.T"
   ]
  },
  {
   "cell_type": "markdown",
   "id": "ccf39e1a-9534-42e3-a2b0-389f77b42912",
   "metadata": {},
   "source": [
    "**向量是标量的推广，矩阵是向量的推广一样，可以构建更多轴的数据结构**"
   ]
  },
  {
   "cell_type": "markdown",
   "id": "25eb8db3-fc84-4d26-b6c3-07db3b8a05b3",
   "metadata": {},
   "source": [
    "X = torch.arange(24).reshape(2, 3, 4)\n",
    "X"
   ]
  },
  {
   "cell_type": "markdown",
   "id": "2b180e62-b580-4d13-8342-be656a975a8f",
   "metadata": {},
   "source": [
    "**给定具有相同形状的任何两个张量，任何二元运算的结果都是相同形状的张量**"
   ]
  },
  {
   "cell_type": "code",
   "execution_count": 19,
   "id": "8b23e5a0-da20-47ed-89d2-a1026672ba48",
   "metadata": {},
   "outputs": [
    {
     "data": {
      "text/plain": [
       "(tensor([[ 0.,  1.,  2.,  3.],\n",
       "         [ 4.,  5.,  6.,  7.],\n",
       "         [ 8.,  9., 10., 11.],\n",
       "         [12., 13., 14., 15.],\n",
       "         [16., 17., 18., 19.]]),\n",
       " tensor([[ 0.,  2.,  4.,  6.],\n",
       "         [ 8., 10., 12., 14.],\n",
       "         [16., 18., 20., 22.],\n",
       "         [24., 26., 28., 30.],\n",
       "         [32., 34., 36., 38.]]))"
      ]
     },
     "execution_count": 19,
     "metadata": {},
     "output_type": "execute_result"
    }
   ],
   "source": [
    "A = torch.arange(20, dtype=torch.float32).reshape(5,4)\n",
    "B = A.clone()  #分配新的内存，将A的副本拷贝进去\n",
    "A, A + B"
   ]
  },
  {
   "cell_type": "markdown",
   "id": "de57326e-16a4-48cb-9af3-58a694a7a789",
   "metadata": {},
   "source": [
    "**两个矩阵的按元素乘法称为哈达玛积(不是矩阵的乘法)**"
   ]
  },
  {
   "cell_type": "code",
   "execution_count": 21,
   "id": "df413d7a-3106-4c18-b3a0-45ed70778c8c",
   "metadata": {},
   "outputs": [
    {
     "data": {
      "text/plain": [
       "tensor([[  0.,   1.,   4.,   9.],\n",
       "        [ 16.,  25.,  36.,  49.],\n",
       "        [ 64.,  81., 100., 121.],\n",
       "        [144., 169., 196., 225.],\n",
       "        [256., 289., 324., 361.]])"
      ]
     },
     "execution_count": 21,
     "metadata": {},
     "output_type": "execute_result"
    }
   ],
   "source": [
    "A * B"
   ]
  },
  {
   "cell_type": "markdown",
   "id": "ea99055a-7cc6-491e-840e-f2aa4464afc7",
   "metadata": {},
   "source": [
    "**矩阵元素的和**"
   ]
  },
  {
   "cell_type": "code",
   "execution_count": 23,
   "id": "b658540b-5875-4a54-bd2f-07b7d7807792",
   "metadata": {},
   "outputs": [
    {
     "data": {
      "text/plain": [
       "(tensor([0., 1., 2., 3.]), tensor(6.))"
      ]
     },
     "execution_count": 23,
     "metadata": {},
     "output_type": "execute_result"
    }
   ],
   "source": [
    " x = torch.arange(4, dtype=torch.float32)\n",
    "x, x.sum()"
   ]
  },
  {
   "cell_type": "code",
   "execution_count": 24,
   "id": "ec93910a-2b03-4f89-82f8-f9f5ee486da4",
   "metadata": {},
   "outputs": [
    {
     "data": {
      "text/plain": [
       "(torch.Size([5, 4]), tensor(190.))"
      ]
     },
     "execution_count": 24,
     "metadata": {},
     "output_type": "execute_result"
    }
   ],
   "source": [
    "A.shape, A.sum()  #不管矩阵的维度，矩阵元素的和始终是标量"
   ]
  },
  {
   "cell_type": "code",
   "execution_count": 25,
   "id": "3a093740-b323-4b2f-b4ee-fc625aaa3362",
   "metadata": {},
   "outputs": [
    {
     "data": {
      "text/plain": [
       "(tensor([[ 0.,  1.,  2.,  3.],\n",
       "         [ 4.,  5.,  6.,  7.],\n",
       "         [ 8.,  9., 10., 11.],\n",
       "         [12., 13., 14., 15.],\n",
       "         [16., 17., 18., 19.]]),\n",
       " tensor([40., 45., 50., 55.]),\n",
       " torch.Size([4]))"
      ]
     },
     "execution_count": 25,
     "metadata": {},
     "output_type": "execute_result"
    }
   ],
   "source": [
    "A_sum_axis0 = A.sum(axis=0)   #计算某个轴上的和，获取的是矩阵降维\n",
    "A, A_sum_axis0, A_sum_axis0.shape"
   ]
  },
  {
   "cell_type": "code",
   "execution_count": 26,
   "id": "b9c40957-faae-4968-af5e-56acad10bc93",
   "metadata": {},
   "outputs": [
    {
     "data": {
      "text/plain": [
       "(tensor([[ 0.,  1.,  2.,  3.],\n",
       "         [ 4.,  5.,  6.,  7.],\n",
       "         [ 8.,  9., 10., 11.],\n",
       "         [12., 13., 14., 15.],\n",
       "         [16., 17., 18., 19.]]),\n",
       " tensor(190.),\n",
       " torch.Size([]))"
      ]
     },
     "execution_count": 26,
     "metadata": {},
     "output_type": "execute_result"
    }
   ],
   "source": [
    "A_sum_axis1 = A.sum(axis=[0, 1])   #计算多个轴上的和\n",
    "A, A_sum_axis1, A_sum_axis1.shape"
   ]
  },
  {
   "cell_type": "markdown",
   "id": "eda9d004-4395-44c4-be70-6f9c7b334a1e",
   "metadata": {},
   "source": [
    "**某些情况下计算总和或者某个轴上的和不希望轴数改变**"
   ]
  },
  {
   "cell_type": "code",
   "execution_count": 91,
   "id": "e58493da-f752-4657-ab00-b4b63af41490",
   "metadata": {},
   "outputs": [
    {
     "data": {
      "text/plain": [
       "tensor([[40., 45., 50., 55.]])"
      ]
     },
     "execution_count": 91,
     "metadata": {},
     "output_type": "execute_result"
    }
   ],
   "source": [
    "sum_A = A.sum(axis=0, keepdims=True)\n",
    "sum_A"
   ]
  },
  {
   "cell_type": "markdown",
   "id": "565081cf-08ba-4fd5-9fd6-0605052dabfa",
   "metadata": {},
   "source": [
    "**矩阵的2平均值**"
   ]
  },
  {
   "cell_type": "code",
   "execution_count": 30,
   "id": "30f7a3e6-5ebd-480a-a67e-a2bffd68baed",
   "metadata": {},
   "outputs": [
    {
     "data": {
      "text/plain": [
       "(tensor(9.5000), tensor(9.5000))"
      ]
     },
     "execution_count": 30,
     "metadata": {},
     "output_type": "execute_result"
    }
   ],
   "source": [
    "A.mean(), A.sum() / A.numel()  #所有维度的均值"
   ]
  },
  {
   "cell_type": "code",
   "execution_count": 31,
   "id": "4c99ed32-51d7-46f6-8cc3-a10d0bd16d0d",
   "metadata": {},
   "outputs": [
    {
     "data": {
      "text/plain": [
       "(tensor([ 8.,  9., 10., 11.]), tensor([ 8.,  9., 10., 11.]))"
      ]
     },
     "execution_count": 31,
     "metadata": {},
     "output_type": "execute_result"
    }
   ],
   "source": [
    "A.mean(axis=0), A.sum(axis=0) / A.shape[0]  #单个维度的均值"
   ]
  },
  {
   "cell_type": "markdown",
   "id": "43c5a63b-a09e-4be9-ae6c-49e8fe57c6a0",
   "metadata": {},
   "source": [
    "**点积**"
   ]
  },
  {
   "cell_type": "code",
   "execution_count": 59,
   "id": "8f3919e6-c24c-4065-a000-67765bc21986",
   "metadata": {},
   "outputs": [
    {
     "data": {
      "text/plain": [
       "(tensor([0., 1., 2., 3.]), tensor([1., 1., 1., 1.]), tensor(6.))"
      ]
     },
     "execution_count": 59,
     "metadata": {},
     "output_type": "execute_result"
    }
   ],
   "source": [
    "y = torch.ones(4, dtype=torch.float32)\n",
    "x, y, torch.dot(x, y)  #向量的点积是一个标量"
   ]
  },
  {
   "cell_type": "markdown",
   "id": "39a3b705-bcad-4bf2-8714-b1864533a9cb",
   "metadata": {},
   "source": [
    "**举证向量积Ax是一个长度为m的列向量**"
   ]
  },
  {
   "cell_type": "code",
   "execution_count": 63,
   "id": "364532b6-ebf1-4af0-899a-89c3c76957c1",
   "metadata": {},
   "outputs": [
    {
     "data": {
      "text/plain": [
       "(torch.Size([5, 4]), torch.Size([4]), tensor([ 14.,  38.,  62.,  86., 110.]))"
      ]
     },
     "execution_count": 63,
     "metadata": {},
     "output_type": "execute_result"
    }
   ],
   "source": [
    "A.shape, x.shape, torch.mv(A,x)"
   ]
  },
  {
   "cell_type": "markdown",
   "id": "4de7b526-6c3c-4e1e-8af1-91da71e51260",
   "metadata": {},
   "source": [
    "**矩阵乘法**"
   ]
  },
  {
   "cell_type": "code",
   "execution_count": 66,
   "id": "0841e027-7772-436b-a0cf-256e7ccde8c4",
   "metadata": {},
   "outputs": [
    {
     "data": {
      "text/plain": [
       "tensor([[ 6.,  6.,  6.],\n",
       "        [22., 22., 22.],\n",
       "        [38., 38., 38.],\n",
       "        [54., 54., 54.],\n",
       "        [70., 70., 70.]])"
      ]
     },
     "execution_count": 66,
     "metadata": {},
     "output_type": "execute_result"
    }
   ],
   "source": [
    "B = torch.ones(4, 3)  #全1矩阵\n",
    "torch.mm(A,B)"
   ]
  },
  {
   "cell_type": "markdown",
   "id": "3da7a665-d32e-4e8b-a362-14a1cb55a90b",
   "metadata": {},
   "source": [
    "**范数**"
   ]
  },
  {
   "cell_type": "code",
   "execution_count": 77,
   "id": "c47f358b-afa3-42c6-9b78-af82df591b16",
   "metadata": {},
   "outputs": [
    {
     "data": {
      "text/plain": [
       "(tensor(5.), tensor(7.))"
      ]
     },
     "execution_count": 77,
     "metadata": {},
     "output_type": "execute_result"
    }
   ],
   "source": [
    "u = torch.tensor([3.0, -4.0])\n",
    "torch.norm(u), torch.abs(u).sum()   #L2范数所有元素求平方开根,L1范数绝对值求和"
   ]
  },
  {
   "cell_type": "code",
   "execution_count": 81,
   "id": "56b28043-b028-43d7-ad1c-09bf58e161cd",
   "metadata": {},
   "outputs": [
    {
     "data": {
      "text/plain": [
       "tensor(6.)"
      ]
     },
     "execution_count": 81,
     "metadata": {},
     "output_type": "execute_result"
    }
   ],
   "source": [
    "torch.norm(torch.ones((4,9)))    #矩阵的范数一般指F范数，即每个元素的平方和再开根"
   ]
  },
  {
   "cell_type": "code",
   "execution_count": null,
   "id": "462b2792-0d6b-4c25-a4be-d287899f423c",
   "metadata": {},
   "outputs": [],
   "source": []
  }
 ],
 "metadata": {
  "kernelspec": {
   "display_name": "Python 3 (ipykernel)",
   "language": "python",
   "name": "python3"
  },
  "language_info": {
   "codemirror_mode": {
    "name": "ipython",
    "version": 3
   },
   "file_extension": ".py",
   "mimetype": "text/x-python",
   "name": "python",
   "nbconvert_exporter": "python",
   "pygments_lexer": "ipython3",
   "version": "3.12.4"
  }
 },
 "nbformat": 4,
 "nbformat_minor": 5
}
